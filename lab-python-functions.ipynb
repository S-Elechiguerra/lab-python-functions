{
 "cells": [
  {
   "cell_type": "markdown",
   "id": "25d7736c-ba17-4aff-b6bb-66eba20fbf4e",
   "metadata": {},
   "source": [
    "# Lab | Functions"
   ]
  },
  {
   "cell_type": "markdown",
   "id": "0c581062-8967-4d93-b06e-62833222f930",
   "metadata": {
    "tags": []
   },
   "source": [
    "## Exercise: Managing Customer Orders with Functions\n",
    "\n",
    "In the previous exercise, you improved the code for managing customer orders by using loops and flow control. Now, let's take it a step further and refactor the code by introducing functions.\n",
    "\n",
    "Follow the steps below to complete the exercise:\n",
    "\n",
    "1. Define a function named `initialize_inventory` that takes `products` as a parameter. Inside the function, implement the code for initializing the inventory dictionary using a loop and user input.\n",
    "\n",
    "2. Define a function named `get_customer_orders` that takes no parameters. Inside the function, implement the code for prompting the user to enter the product names using a loop. The function should return the `customer_orders` set.\n",
    "\n",
    "3. Define a function named `update_inventory` that takes `customer_orders` and `inventory` as parameters. Inside the function, implement the code for updating the inventory dictionary based on the customer orders.\n",
    "\n",
    "4. Define a function named `calculate_order_statistics` that takes `customer_orders` and `products` as parameters. Inside the function, implement the code for calculating the order statistics (total products ordered, and percentage of unique products ordered). The function should return these values.\n",
    "\n",
    "5. Define a function named `print_order_statistics` that takes `order_statistics` as a parameter. Inside the function, implement the code for printing the order statistics.\n",
    "\n",
    "6. Define a function named `print_updated_inventory` that takes `inventory` as a parameter. Inside the function, implement the code for printing the updated inventory.\n",
    "\n",
    "7. Call the functions in the appropriate sequence to execute the program and manage customer orders.\n",
    "\n",
    "Hints for functions:\n",
    "\n",
    "- Consider the input parameters required for each function and their return values.\n",
    "- Utilize function parameters and return values to transfer data between functions.\n",
    "- Test your functions individually to ensure they work correctly.\n",
    "\n",
    "\n"
   ]
  },
  {
   "cell_type": "code",
   "execution_count": 44,
   "id": "50d96995",
   "metadata": {},
   "outputs": [],
   "source": [
    "def initialize_inventory(list):\n",
    "    inventory = {}\n",
    "    for product in list:\n",
    "        quantity = input(\"what is the quantity of \" + product + \" available in the inventory?\")\n",
    "        inventory[product] = int(quantity)\n",
    "    return inventory\n",
    "\n"
   ]
  },
  {
   "cell_type": "code",
   "execution_count": 45,
   "id": "65fe1ccf",
   "metadata": {},
   "outputs": [],
   "source": [
    "def get_customer_orders():\n",
    "    customer_orders = set()\n",
    "    extra = \"yes\"\n",
    "    while(extra == \"yes\"):\n",
    "        order = input(\"Which product you want to order?\")\n",
    "        customer_orders.add(order)\n",
    "        extra = input(\"Do you want to order an extra item? Yes or No\").lower()\n",
    "    return customer_orders"
   ]
  },
  {
   "cell_type": "code",
   "execution_count": 46,
   "id": "2a91ea9a",
   "metadata": {},
   "outputs": [],
   "source": [
    "def update_inventory(set, dict):\n",
    "    for order in set:\n",
    "        dict[order] -= 1\n",
    "    return dict"
   ]
  },
  {
   "cell_type": "code",
   "execution_count": 47,
   "id": "e2b3b0ce",
   "metadata": {},
   "outputs": [],
   "source": [
    "def calculate_order_statistics(set, list):\n",
    "    statistics = {}\n",
    "    total_orders = len(set)\n",
    "    total_products = len(list)\n",
    "    inventory_total = (total_orders / total_products) * 100\n",
    "    statistics[\"total_orders\"] = total_orders\n",
    "    statistics[\"percentage_of_products_ordered\"] = inventory_total\n",
    "    return statistics"
   ]
  },
  {
   "cell_type": "code",
   "execution_count": 48,
   "id": "5f3880b2",
   "metadata": {},
   "outputs": [],
   "source": [
    "def print_order_statistics(dict):\n",
    "    print(\"Order Statistics:\")\n",
    "    print(\"Total Products Ordered:\", dict[\"total_orders\"])\n",
    "    print(\"Percentage Of Products Ordered:\", dict[\"percentage_of_products_ordered\"],\"%\")\n",
    "    return"
   ]
  },
  {
   "cell_type": "code",
   "execution_count": 49,
   "id": "a4c5924a",
   "metadata": {},
   "outputs": [],
   "source": [
    "def print_updated_inventory(dict):\n",
    "    print(\"Updated Inventory:\")\n",
    "    print(dict)\n",
    "    return"
   ]
  },
  {
   "cell_type": "code",
   "execution_count": 50,
   "id": "43694981",
   "metadata": {},
   "outputs": [
    {
     "name": "stdout",
     "output_type": "stream",
     "text": [
      "Order Statistics:\n",
      "Total Products Ordered: 2\n",
      "Percentage Of Products Ordered: 40.0 %\n",
      "Updated Inventory:\n",
      "{'t-shirt': 3, 'mug': 1, 'hat': 5, 'book': 3, 'keychain': 7}\n"
     ]
    }
   ],
   "source": [
    "products = [\"t-shirt\",\"mug\",\"hat\",\"book\",\"keychain\"]\n",
    "inventory = initialize_inventory(products)\n",
    "customer_orders = get_customer_orders()\n",
    "updated_inventory = update_inventory(customer_orders, inventory)\n",
    "statistics = calculate_order_statistics(customer_orders, products)\n",
    "print_order_statistics(statistics)\n",
    "print_updated_inventory(updated_inventory)\n"
   ]
  }
 ],
 "metadata": {
  "kernelspec": {
   "display_name": "Python 3 (ipykernel)",
   "language": "python",
   "name": "python3"
  },
  "language_info": {
   "codemirror_mode": {
    "name": "ipython",
    "version": 3
   },
   "file_extension": ".py",
   "mimetype": "text/x-python",
   "name": "python",
   "nbconvert_exporter": "python",
   "pygments_lexer": "ipython3",
   "version": "3.12.4"
  }
 },
 "nbformat": 4,
 "nbformat_minor": 5
}
